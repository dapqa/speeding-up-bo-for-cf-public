{
 "cells": [
  {
   "cell_type": "markdown",
   "source": [
    "## Evaluating HPO Space of SVD algorithm\n",
    "\n",
    "This notebook contains evaluation of RMSE of SVD models at Movielens datasets\n",
    "using different numbers of factors and regularization constants."
   ],
   "metadata": {
    "collapsed": false,
    "pycharm": {
     "name": "#%% md\n"
    }
   }
  },
  {
   "cell_type": "markdown",
   "source": [
    "Initial setup: imports and working dir"
   ],
   "metadata": {
    "collapsed": false,
    "pycharm": {
     "name": "#%% md\n"
    }
   }
  },
  {
   "cell_type": "code",
   "execution_count": 1,
   "metadata": {
    "collapsed": true
   },
   "outputs": [],
   "source": [
    "import os\n",
    "while not os.path.exists('.gitmodules'):\n",
    "    os.chdir('..')\n",
    "\n",
    "from typing import Dict\n",
    "\n",
    "import matplotlib.pyplot as plt\n",
    "import pandas as pd\n",
    "\n",
    "from parameters import get_env_parameters\n",
    "from util.hpo_space_eval_utils import eval_svd_hpo_space, visualize_hpo_space\n",
    "from util.datasets import MOVIELENS_100K, MOVIELENS_1M, MOVIELENS_10M\n",
    "from util.docker.eigen3_svd import Eigen3SVDService"
   ]
  },
  {
   "cell_type": "markdown",
   "source": [
    "Start the docker container for native SVD/SVD++ models.\n",
    "*If either the container or needed image does not exist, they will be created programmatically.*\n",
    "This behavior is controlled by service constructor flags."
   ],
   "metadata": {
    "collapsed": false,
    "pycharm": {
     "name": "#%% md\n"
    }
   }
  },
  {
   "cell_type": "code",
   "execution_count": 2,
   "outputs": [],
   "source": [
    "env_params = get_env_parameters()\n",
    "eigen3_svd_service = Eigen3SVDService(env_params=env_params,\n",
    "                                      do_init_container=True,\n",
    "                                      allow_auto_build_image=True,\n",
    "                                      allow_auto_create_container=True,\n",
    "                                      allow_auto_run_container=True)"
   ],
   "metadata": {
    "collapsed": false,
    "pycharm": {
     "name": "#%%\n"
    }
   }
  },
  {
   "cell_type": "markdown",
   "source": [
    "Define experiment settings: hyperparameter values to evaluate for needed datasets."
   ],
   "metadata": {
    "collapsed": false,
    "pycharm": {
     "name": "#%% md\n"
    }
   }
  },
  {
   "cell_type": "code",
   "execution_count": 3,
   "outputs": [],
   "source": [
    "eval_params_map = {\n",
    "    MOVIELENS_100K.id: {\n",
    "        'n_factors_list': [(i + 1) * 10 for i in range(10)],\n",
    "        'reg_weight_list': [round(i * 0.01, 2) for i in range(10)]\n",
    "    },\n",
    "    MOVIELENS_1M.id: {\n",
    "        'n_factors_list': [(i + 1) * 10 for i in range(10)],\n",
    "        'reg_weight_list': [round(i * 0.01, 2) for i in range(10)]\n",
    "    },\n",
    "    MOVIELENS_10M.id: {\n",
    "        'n_factors_list': [(i + 1) * 10 for i in range(10)],\n",
    "        'reg_weight_list': [round(i * 0.01, 2) for i in range(10)]\n",
    "    }\n",
    "}"
   ],
   "metadata": {
    "collapsed": false,
    "pycharm": {
     "name": "#%%\n"
    }
   }
  },
  {
   "cell_type": "markdown",
   "source": [
    "Define map with existing experiment results.\n",
    "This allows taking previous RMSE evaluations from disk without running model pipeline."
   ],
   "metadata": {
    "collapsed": false,
    "pycharm": {
     "name": "#%% md\n"
    }
   }
  },
  {
   "cell_type": "code",
   "execution_count": 4,
   "outputs": [],
   "source": [
    "existing_results_files_map = {\n",
    "    MOVIELENS_100K.id: [\n",
    "        'ml100k-svd-f10-100-regw0.0-0.09.csv'\n",
    "    ],\n",
    "    MOVIELENS_1M.id: [\n",
    "        'ml1m-svd-f10-100-regw0.0-0.09.csv'\n",
    "    ],\n",
    "    MOVIELENS_10M.id: [\n",
    "        'ml10m-svd-f10-100-regw0.0-0.09.csv'\n",
    "    ]\n",
    "}"
   ],
   "metadata": {
    "collapsed": false,
    "pycharm": {
     "name": "#%%\n"
    }
   }
  },
  {
   "cell_type": "markdown",
   "source": [
    "Run the experiments.\n",
    "Function ```eval_svd_hpo_space``` returns ```pd.DataFrame``` and saves CSV results file on disk."
   ],
   "metadata": {
    "collapsed": false,
    "pycharm": {
     "name": "#%% md\n"
    }
   }
  },
  {
   "cell_type": "code",
   "execution_count": 5,
   "outputs": [
    {
     "name": "stdout",
     "output_type": "stream",
     "text": [
      "Executable for factor count: 10 already exists, skipped\n",
      "Executable for factor count: 20 already exists, skipped\n",
      "Executable for factor count: 30 already exists, skipped\n",
      "Executable for factor count: 40 already exists, skipped\n",
      "Executable for factor count: 50 already exists, skipped\n",
      "Executable for factor count: 60 already exists, skipped\n",
      "Executable for factor count: 70 already exists, skipped\n",
      "Executable for factor count: 80 already exists, skipped\n",
      "Executable for factor count: 90 already exists, skipped\n",
      "Executable for factor count: 100 already exists, skipped\n",
      "Pre-compilation finished\n",
      "C:\\_\\svd-pytorch-and-bo\\eigen3_svd\\data\\corpus\\ml100k-train-80.csv and C:\\_\\svd-pytorch-and-bo\\eigen3_svd\\data\\corpus\\ml100k-test-20.csv already exists\n",
      "Splitting finished\n",
      "Models with n_factors=10 are evaluated\n",
      "Models with n_factors=20 are evaluated\n",
      "Models with n_factors=30 are evaluated\n",
      "Models with n_factors=40 are evaluated\n",
      "Models with n_factors=50 are evaluated\n",
      "Models with n_factors=60 are evaluated\n",
      "Models with n_factors=70 are evaluated\n",
      "Models with n_factors=80 are evaluated\n",
      "Models with n_factors=90 are evaluated\n",
      "Models with n_factors=100 are evaluated\n",
      "Executable for factor count: 10 already exists, skipped\n",
      "Executable for factor count: 20 already exists, skipped\n",
      "Executable for factor count: 30 already exists, skipped\n",
      "Executable for factor count: 40 already exists, skipped\n",
      "Executable for factor count: 50 already exists, skipped\n",
      "Executable for factor count: 60 already exists, skipped\n",
      "Executable for factor count: 70 already exists, skipped\n",
      "Executable for factor count: 80 already exists, skipped\n",
      "Executable for factor count: 90 already exists, skipped\n",
      "Executable for factor count: 100 already exists, skipped\n",
      "Pre-compilation finished\n",
      "C:\\_\\svd-pytorch-and-bo\\eigen3_svd\\data\\corpus\\ml1m-train-80.csv and C:\\_\\svd-pytorch-and-bo\\eigen3_svd\\data\\corpus\\ml1m-test-20.csv already exists\n",
      "Splitting finished\n",
      "Models with n_factors=10 are evaluated\n",
      "Models with n_factors=20 are evaluated\n",
      "Models with n_factors=30 are evaluated\n",
      "Models with n_factors=40 are evaluated\n",
      "Models with n_factors=50 are evaluated\n",
      "Models with n_factors=60 are evaluated\n",
      "Models with n_factors=70 are evaluated\n",
      "Models with n_factors=80 are evaluated\n",
      "Models with n_factors=90 are evaluated\n",
      "Models with n_factors=100 are evaluated\n",
      "Executable for factor count: 10 already exists, skipped\n",
      "Executable for factor count: 20 already exists, skipped\n",
      "Executable for factor count: 30 already exists, skipped\n",
      "Executable for factor count: 40 already exists, skipped\n",
      "Executable for factor count: 50 already exists, skipped\n",
      "Executable for factor count: 60 already exists, skipped\n",
      "Executable for factor count: 70 already exists, skipped\n",
      "Executable for factor count: 80 already exists, skipped\n",
      "Executable for factor count: 90 already exists, skipped\n",
      "Executable for factor count: 100 already exists, skipped\n",
      "Pre-compilation finished\n",
      "C:\\_\\svd-pytorch-and-bo\\eigen3_svd\\data\\corpus\\ml10m-train-80.csv and C:\\_\\svd-pytorch-and-bo\\eigen3_svd\\data\\corpus\\ml10m-test-20.csv already exists\n",
      "Splitting finished\n",
      "Models with n_factors=10 are evaluated\n",
      "Models with n_factors=20 are evaluated\n",
      "Models with n_factors=30 are evaluated\n",
      "Models with n_factors=40 are evaluated\n",
      "Models with n_factors=50 are evaluated\n",
      "Models with n_factors=60 are evaluated\n",
      "Models with n_factors=70 are evaluated\n",
      "Models with n_factors=80 are evaluated\n",
      "Models with n_factors=90 are evaluated\n",
      "Models with n_factors=100 are evaluated\n"
     ]
    }
   ],
   "source": [
    "results_map: Dict[str, pd.DataFrame] = dict()\n",
    "for dd in [MOVIELENS_100K, MOVIELENS_1M, MOVIELENS_10M]:\n",
    "    results_map[dd.id] = eval_svd_hpo_space(\n",
    "        eval_params_map=eval_params_map,\n",
    "        existing_results_files_map=existing_results_files_map,\n",
    "        dataset_descriptor=dd,\n",
    "        eigen3_svd_service=eigen3_svd_service\n",
    "    )\n"
   ],
   "metadata": {
    "collapsed": false,
    "pycharm": {
     "name": "#%%\n"
    }
   }
  },
  {
   "cell_type": "markdown",
   "source": [
    "Visualize model loss on given hyperparameter configuration space."
   ],
   "metadata": {
    "collapsed": false,
    "pycharm": {
     "name": "#%% md\n"
    }
   }
  },
  {
   "cell_type": "code",
   "execution_count": 6,
   "outputs": [
    {
     "data": {
      "text/plain": "<Figure size 360x360 with 6 Axes>",
      "image/png": "[encoded data removed]"
     },
     "metadata": {},
     "output_type": "display_data"
    }
   ],
   "source": [
    "fig, ax = plt.subplots(nrows=3, ncols=1, figsize=(5, 5), facecolor='white')\n",
    "for i, dd in enumerate([MOVIELENS_100K, MOVIELENS_1M, MOVIELENS_10M]):\n",
    "    visualize_hpo_space(results_map[dd.id], fig, ax[i])\n",
    "    ax[i].set_title(dd.name)\n",
    "\n",
    "fig.tight_layout()"
   ],
   "metadata": {
    "collapsed": false,
    "pycharm": {
     "name": "#%%\n"
    }
   }
  }
 ],
 "metadata": {
  "kernelspec": {
   "name": "pycharm-f942d06b",
   "language": "python",
   "display_name": "PyCharm (svd-pytorch-and-bo)"
  },
  "language_info": {
   "codemirror_mode": {
    "name": "ipython",
    "version": 2
   },
   "file_extension": ".py",
   "mimetype": "text/x-python",
   "name": "python",
   "nbconvert_exporter": "python",
   "pygments_lexer": "ipython2",
   "version": "2.7.6"
  }
 },
 "nbformat": 4,
 "nbformat_minor": 0
}